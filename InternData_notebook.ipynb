{
  "nbformat": 4,
  "nbformat_minor": 0,
  "metadata": {
    "colab": {
      "provenance": [],
      "authorship_tag": "ABX9TyOBKYCekzVWiCD3+6maIK18",
      "include_colab_link": true
    },
    "kernelspec": {
      "name": "python3",
      "display_name": "Python 3"
    },
    "language_info": {
      "name": "python"
    }
  },
  "cells": [
    {
      "cell_type": "markdown",
      "metadata": {
        "id": "view-in-github",
        "colab_type": "text"
      },
      "source": [
        "<a href=\"https://colab.research.google.com/github/SarahAdmin/FinTech-Data-Analytics/blob/main/InternData_notebook.ipynb\" target=\"_parent\"><img src=\"https://colab.research.google.com/assets/colab-badge.svg\" alt=\"Open In Colab\"/></a>"
      ]
    },
    {
      "cell_type": "code",
      "execution_count": null,
      "metadata": {
        "colab": {
          "base_uri": "https://localhost:8080/"
        },
        "id": "jh7xuHqj-nyy",
        "outputId": "f682f7d1-eb11-4354-c12c-e4359c26709d"
      },
      "outputs": [
        {
          "output_type": "stream",
          "name": "stdout",
          "text": [
            "                               Team  Department                                                   Posting Title        Posting Owner Posting Hiring Manager How satisfied are you with the ease of the application process? How satisfied are you with your interviews with the Hiring Manager and Team? How satisfied were you with the interview feedback you received? How satisfied are you with the way you were treated? Overall, how satisfied were you with your interviewing experience?  How satisfied were you with your Screening call?  How satisfied were you with the interview materials you received?  How satisfied were you with our communication during the recruiting process?\n",
            "0            Banking & Partnerships     Banking                              Director, Bank & Platform Partners  Victor Leong Wei De             Ola Malomo                                               5- Very Satsified                                                           5 - Very Satisfied                                                     4- Satisfied                                   5 - Very Satisfied                                                  5 - Very Satisfied                                5 - Very Satisfied                                                 5 - Very Satisfied                                                            5 - Very Satsfied\n",
            "1             End-Client Onboarding  Compliance                                              Compliance Analyst    Gabirelle Wheeler              Jill Meek                                                     3 - Neutral                                                                  3 - Neutral                                             1 - Very dissatified                                          3 - Neutral                                                         3 - Neutral                                       3 - Neutral                                           0 - Prefer not to answer                                                         1 - Very dissatified\n",
            "2   Real-Time Transcation Montoring  Compliance  Compliance Analyst - Real Time Transcation Monitoring (Remote)          James Flood             Alex Price                                             5 - Very Satisfied                                                           5 - Very Satisfied                                                5 - Very Satisfied                                   5 - Very Satisfied                                                 5 - Very Satisfied                                 5 - Very Satisfied                                                 5 - Very Satisfied                                                                4 - Satisfied\n",
            "3               Customer Operations  Operations                      Customer Operations Specialist (Day Shift)    Gabirelle Wheeler          Declan McPate                                              5 - Very Satisfied                                                             2 - Dissatsified                                                  2- Dissatisfied                                          3 - Neutral                                                         3 - Neutral                                5 - Very Satisfied                                                        3 - Neutral                                                             2 - Dissatisfied\n",
            "4                  Service Delivery  Operations                                       Core Operations Specalist    Gabirelle Wheeler             Liz Bishop                                                     3 - Neutral                                                                4 - Satisfied                                                    4 - Satisfied                                    2 - Dissatisfied                                                         3 - Neutral                                      4 - Satisfied                                                        3 - Neutral                                                             2 - Dissatisfied\n",
            "5                            People      People                                                      HR Advisor          Adam Bolton  Elodie Martinie-Evans                                            1 - Very dissatified                                                          1- Very dissatified                                              1- Very dissatified                                 1 - Very dissatified                                                1 - Very dissatified                              1 - Very dissatified                                                1- Very dissatified                                                         1 - Very dissatified\n",
            "6                               NaN         NaN                                                          Talent               People       Recruiter Screen                                             Victor Leong Wei De                                                          Victor Leong Wei De                                                              NaN                                   5 - Very Satisfied                                                  5 - Very Satisfied                                     4 - Satisfied                                                  5 - Very Satsfied                                                            5 - Very Satsfied\n",
            "7                               NaN         NaN                                                         Product              Product  Hiring Manager Screen                                                  Jake Pedingham                                                               Jenna Grierson                                                              NaN                                   5 - Very Satisfied                                                  5 - Very Satisfied                                5 - Very Satisfied                                                 5 - Very Satisfied                                                           5 - Very Satisfied\n",
            "8               Customer Experience       Sales          Presales Implementation Solutions Consultant (Fintech)        Arlyne Audige          Shi-Huey Chen                                              5 - Very Satisfied                                                            5 - Very Satsfied                                                    4 - Satisfied                                   5 - Very Satisfied                                                  5 - Very Satisfied                                5 - Very Satisfied                                                      4 - Satisfied                                                           5 - Very Satisfied\n",
            "9                  Customer Success       Sales                              Customer Success Manager (Fintech)          Zoe Keevash            Elisa Pires                                             5 - Very Satisfied                                                            5 - Very Satisfied                                              5 - Very Satisfied                                    5 - Very Satisfied                                                  5 - Very Satisfied                                5 - Very Satisfied                                                  5 - Very Satsfied                                                                4 - Satisfied\n",
            "10                    Customer Team       Sales                                                 Account Manager  Victor Leong Wei De             Ben Achirn                                               5 - Very Satsfied                                                          5 - Very Satsified                                                 5 - Very Satsfied                                   5 - Very Satisfied                                                  5 - Very Satisfied                                5 - Very Satisfied                                                 5 - Very Satisfied                                                           5 - Very Satisfied\n",
            "11              New Business - APAC       Sales                               Sales Development Representative   Victor Leong Wei De            Anthony Man                                                     3 - Neutral                                                                4 - Satisfied                                                      3 - Netural                                          3 - Neutral                                                         3 - Neutral                                       3 - Neutral                                                       3 - Neutral                                                                   3 - Neutral\n",
            "12                Partnerships Team       Sales                Commerical Partnerships Manager - Card Ecosystem          Zoe Keevash       Richard Stockley                                                   4 - Satisfied                                                                4 - Satisfied                                                     4 - Satsfied                                        4 - Satisfied                                                       4 - Satisfied                                     4 - Satisfied                                                      4 - Satsified                                                                4 - Satisfied\n",
            "13                   Solutions Team       Sales             Presales Implementation Consultane (pre/post sales)          Zoe Keevash             Mark Lynch                                                   4 - Satisfied                                                           5 - Very Satisfied                                                    4 - Satisfied                                   5 - Very Satisfied                                                       4 - Satisfied                                5 - Very Satisfied                                                     4 - Satisfied                                                            5 - Very Satisfied\n",
            "14             Software Development  Technology                                   Senior Scale Engineer(Remote)       Jake Pedingham        Jose Pettroruti                                                  4 - Satisfied                                                                 4 - Satisfied                                               5 - Very Satisfied                                        4 - Satisfied                                                                 NaN                                     4 - Satisfied                                                        3 - Neutral                                                                4 - Satisfied\n"
          ]
        }
      ],
      "source": [
        "import pandas as pd\n",
        "novDF = pd.read_excel('November Feedback List.xlsx',sheet_name='candidate-experience-survey-exp')\n",
        "columns_to_delete = ['Current Stage','What suggestions would you make to improve our interview process?',\n",
        "                     'Do you have any thoughts or comments that you would like to share? ',\n",
        "                      'Unnamed: 16', 'Unnamed: 17']\n",
        "newFeedback = novDF.drop(columns_to_delete,axis=1)\n",
        "print(newFeedback.to_string())\n"
      ]
    },
    {
      "cell_type": "code",
      "source": [
        "import pandas as pd\n",
        "novDF = pd.read_excel('November Feedback List.xlsx',sheet_name='candidate-experience-survey-exp')\n",
        "columns_to_delete = ['Current Stage','What suggestions would you make to improve our interview process?',\n",
        "                     'Do you have any thoughts or comments that you would like to share? ',\n",
        "                      'Unnamed: 16', 'Unnamed: 17']\n",
        "newFeedback = novDF.drop(columns_to_delete,axis=1)\n",
        "novSales = newFeedback.where(novDF['Department'] == 'Sales').dropna()\n",
        "print(novSales.to_string())"
      ],
      "metadata": {
        "colab": {
          "base_uri": "https://localhost:8080/"
        },
        "id": "eNCkrSxZB7Ao",
        "outputId": "31dcc161-3e1e-47ea-b8de-c18d5b5e5ff4"
      },
      "execution_count": null,
      "outputs": [
        {
          "output_type": "stream",
          "name": "stdout",
          "text": [
            "                   Team Department                                           Posting Title        Posting Owner Posting Hiring Manager How satisfied are you with the ease of the application process? How satisfied are you with your interviews with the Hiring Manager and Team? How satisfied were you with the interview feedback you received? How satisfied are you with the way you were treated? Overall, how satisfied were you with your interviewing experience?  How satisfied were you with your Screening call?  How satisfied were you with the interview materials you received?  How satisfied were you with our communication during the recruiting process?\n",
            "8   Customer Experience      Sales  Presales Implementation Solutions Consultant (Fintech)        Arlyne Audige          Shi-Huey Chen                                              5 - Very Satisfied                                                            5 - Very Satsfied                                                    4 - Satisfied                                   5 - Very Satisfied                                                  5 - Very Satisfied                                5 - Very Satisfied                                                      4 - Satisfied                                                           5 - Very Satisfied\n",
            "9      Customer Success      Sales                      Customer Success Manager (Fintech)          Zoe Keevash            Elisa Pires                                             5 - Very Satisfied                                                            5 - Very Satisfied                                              5 - Very Satisfied                                    5 - Very Satisfied                                                  5 - Very Satisfied                                5 - Very Satisfied                                                  5 - Very Satsfied                                                                4 - Satisfied\n",
            "10        Customer Team      Sales                                         Account Manager  Victor Leong Wei De             Ben Achirn                                               5 - Very Satsfied                                                          5 - Very Satsified                                                 5 - Very Satsfied                                   5 - Very Satisfied                                                  5 - Very Satisfied                                5 - Very Satisfied                                                 5 - Very Satisfied                                                           5 - Very Satisfied\n",
            "11  New Business - APAC      Sales                       Sales Development Representative   Victor Leong Wei De            Anthony Man                                                     3 - Neutral                                                                4 - Satisfied                                                      3 - Netural                                          3 - Neutral                                                         3 - Neutral                                       3 - Neutral                                                       3 - Neutral                                                                   3 - Neutral\n",
            "12    Partnerships Team      Sales        Commerical Partnerships Manager - Card Ecosystem          Zoe Keevash       Richard Stockley                                                   4 - Satisfied                                                                4 - Satisfied                                                     4 - Satsfied                                        4 - Satisfied                                                       4 - Satisfied                                     4 - Satisfied                                                      4 - Satsified                                                                4 - Satisfied\n",
            "13       Solutions Team      Sales     Presales Implementation Consultane (pre/post sales)          Zoe Keevash             Mark Lynch                                                   4 - Satisfied                                                           5 - Very Satisfied                                                    4 - Satisfied                                   5 - Very Satisfied                                                       4 - Satisfied                                5 - Very Satisfied                                                     4 - Satisfied                                                            5 - Very Satisfied\n"
          ]
        }
      ]
    },
    {
      "cell_type": "code",
      "source": [
        "import pandas as pd\n",
        "sepDF = pd.read_csv('September Feedback.csv')\n",
        "columnsToRemove = ['Applied On', 'Collected On', 'Anonymized Contact ID', 'Posting ID',\n",
        "                   'Current Stage ID','Application Archive Reason', 'Application Archived On',\n",
        "       'Application Archived By', 'Survey Id', 'Survey Name',\n",
        "       'Survey Location Type','Candidate Selected Location',\n",
        "       'Stage - New lead', 'Stage - Reached out', 'Stage - Responded',\n",
        "       'Stage - New applicant', 'Stage - Under review',\n",
        "       'Stage - Recruiter Screen', 'Stage - Hiring Manager Screen',\n",
        "       'Stage - 1st Round', 'Stage - 2nd Round', 'Stage - Decision',\n",
        "       'Stage - Offer','What suggestions would you make to improve our interview process? - 21866cc4-7d8f-47da-97df-9efdfcbe083d','Origin','Sources']\n",
        "newSepDF = sepDF.drop(columnsToRemove,axis=1)\n",
        "sepFeedback = newSepDF.where((sepDF['Department'] == 'Technology') | (sepDF['Department'] == 'Banking')).dropna()\n",
        "print(sepFeedback.to_string())"
      ],
      "metadata": {
        "colab": {
          "base_uri": "https://localhost:8080/"
        },
        "id": "kGUTGMPKCRRs",
        "outputId": "7bb69a1c-8200-4960-cde7-4d4b20476cb1"
      },
      "execution_count": null,
      "outputs": [
        {
          "output_type": "stream",
          "name": "stdout",
          "text": [
            "                      Team  Department Commitment / Work Type            Location          Current Stage                       Posting Title        Posting Owner Posting Hiring Manager How satisfied were you with the interview materials you received? - 4158aafc-ce92-4d35-930f-2f5451455a4d How satisfied are you with your interviews with the Hiring Manager and Team? - 605b085d-5bba-4668-babc-17dc8304e06c How satisfied are you with the ease of the application process? - 513b2b55-b818-4f03-bf6f-e82b180c9e60 How satisfied were you with the interview feedback you received? - e30211c6-d32d-4f89-95fc-dfb91bb47033                                                                                                                                                                                                                                                                                                                                                                                                                                                                                                                                                                                                                                                                                                                                                                   Do you have any thoughts or comments that you would like to share? - a611bc41-fd5f-4f91-a277-3b0a260c7401 How satisfied were you with your Screening call? - de09e7f8-4e8c-498d-9ccb-237788b735d0 How satisfied are you with the way you were treated? - 05c18285-2750-479f-8afc-d560b66f552c How satisfied were you with our communication during the recruiting process? - e8c5e9ae-38de-4acb-855c-8d18039b1f5c Overall, how satisfied were you with your interviewing experience? - 693b0a81-d4e7-40a2-9135-7fc38fa43eaf\n",
            "3   Banking & Partnerships     Banking              Permanent  Singapore (Remote)  Hiring Manager Screen  Director, Bank & Platform Partners  Victor Leong Wei De             Ola Malomo                                                                                            4 - Satisfied                                                                                                  5 - Very satisfied                                                                                     5 - Very satisfied                                                                                      5 - Very satisfied                                                                                                                                                                                                                                                                                                                                        I am extremely impressed with the professionalism and close follow-up provided by the HR contact, Mr Victor Leong, who not only kept me updated along the way, but at the moment where I was not selected for subsequent rounds, he arranged a follow-up call to give me the detailed reasons why. This is a very rare occurrence in the numerous hiring situations I had been in the past and as a candidate, I left with a very solid impression not only of Victor, but of Currencycloud as an organisation which values people!                                                                       5 - Very satisfied                                                                          5 - Very satisfied                                                                                                  5 - Very satisfied                                                                                        5 - Very satisfied\n",
            "5   Banking & Partnerships     Banking              Permanent  Singapore (Remote)  Hiring Manager Screen  Director, Bank & Platform Partners  Victor Leong Wei De             Ola Malomo                                                                                       5 - Very satisfied                                                                                                  5 - Very satisfied                                                                                     5 - Very satisfied                                                                                           4 - Satisfied                                                                                                                                                                                                                                                                                                                                                                                                                                                                                                                                                                                                                                                                                                No feedback at this point but I must comment on HR to conclude the interview process professionally. At the same time, feedback received from the interviewers is valuable.                                                                            4 - Satisfied                                                                          5 - Very satisfied                                                                                                       4 - Satisfied                                                                                        5 - Very satisfied\n",
            "13    Software Development  Technology              Permanent         UK (Remote)                  Offer     Java Software Engineer (Remote)      Jake Pedlingham         Jose Pettoruti                                                                                            4 - Satisfied                                                                                                  5 - Very satisfied                                                                                     5 - Very satisfied                                                                                      5 - Very satisfied  The interview process was great, I don't have much feedback for improvement but would like to highlight some things that made the process especially good so they continue for other applicants.\\r\\n\\r\\nThere are quite a few of stages to the interview process, which gave me plenty of time to get an understanding of the company and seemed like a 2 way process where both parties are checking the fit is right. I also got to speak with several people across the company, each of whom seemed excited about their role and the company.\\r\\n\\r\\nAfter each interview, Jake (Talent Acquisition Specialist) would catch up with me quickly to see how it went and discuss next steps / provide feedback. This felt very organised and transparent which speaks volumes for the company as a whole.\\r\\n\\r\\nOverall, this has been an excellent recruitment process.                                                                      5 - Very satisfied                                                                          5 - Very satisfied                                                                                                  5 - Very satisfied                                                                                        5 - Very satisfied\n"
          ]
        }
      ]
    },
    {
      "cell_type": "code",
      "source": [
        "import pandas as pd\n",
        "sepDF = pd.read_csv('September Feedback.csv')\n",
        "columnsToRemove = ['Applied On', 'Collected On', 'Anonymized Contact ID', 'Posting ID',\n",
        "                   'Current Stage ID','Application Archive Reason', 'Application Archived On',\n",
        "       'Application Archived By', 'Survey Id', 'Survey Name',\n",
        "       'Survey Location Type','Candidate Selected Location',\n",
        "       'Stage - New lead', 'Stage - Reached out', 'Stage - Responded',\n",
        "       'Stage - New applicant', 'Stage - Under review',\n",
        "       'Stage - Recruiter Screen', 'Stage - Hiring Manager Screen',\n",
        "       'Stage - 1st Round', 'Stage - 2nd Round', 'Stage - Decision',\n",
        "       'Stage - Offer','What suggestions would you make to improve our interview process? - 21866cc4-7d8f-47da-97df-9efdfcbe083d','Origin','Sources']\n",
        "newSepDF = sepDF.drop(columnsToRemove,axis=1)\n",
        "sepFeedback1 = newSepDF.where(sepDF['Team'] == 'Banking & Partnerships').dropna()\n",
        "print(sepFeedback1.to_string())"
      ],
      "metadata": {
        "colab": {
          "base_uri": "https://localhost:8080/"
        },
        "id": "jboPZGk1FCSl",
        "outputId": "411cf687-ccde-4105-ad07-7427e1bca294"
      },
      "execution_count": null,
      "outputs": [
        {
          "output_type": "stream",
          "name": "stdout",
          "text": [
            "                     Team Department Commitment / Work Type            Location          Current Stage                       Posting Title        Posting Owner Posting Hiring Manager How satisfied were you with the interview materials you received? - 4158aafc-ce92-4d35-930f-2f5451455a4d How satisfied are you with your interviews with the Hiring Manager and Team? - 605b085d-5bba-4668-babc-17dc8304e06c How satisfied are you with the ease of the application process? - 513b2b55-b818-4f03-bf6f-e82b180c9e60 How satisfied were you with the interview feedback you received? - e30211c6-d32d-4f89-95fc-dfb91bb47033                                                                                                                                                                                                                                                                                                                                                                                                                             Do you have any thoughts or comments that you would like to share? - a611bc41-fd5f-4f91-a277-3b0a260c7401 How satisfied were you with your Screening call? - de09e7f8-4e8c-498d-9ccb-237788b735d0 How satisfied are you with the way you were treated? - 05c18285-2750-479f-8afc-d560b66f552c How satisfied were you with our communication during the recruiting process? - e8c5e9ae-38de-4acb-855c-8d18039b1f5c Overall, how satisfied were you with your interviewing experience? - 693b0a81-d4e7-40a2-9135-7fc38fa43eaf\n",
            "3  Banking & Partnerships    Banking              Permanent  Singapore (Remote)  Hiring Manager Screen  Director, Bank & Platform Partners  Victor Leong Wei De             Ola Malomo                                                                                            4 - Satisfied                                                                                                  5 - Very satisfied                                                                                     5 - Very satisfied                                                                                      5 - Very satisfied  I am extremely impressed with the professionalism and close follow-up provided by the HR contact, Mr Victor Leong, who not only kept me updated along the way, but at the moment where I was not selected for subsequent rounds, he arranged a follow-up call to give me the detailed reasons why. This is a very rare occurrence in the numerous hiring situations I had been in the past and as a candidate, I left with a very solid impression not only of Victor, but of Currencycloud as an organisation which values people!                                                                       5 - Very satisfied                                                                          5 - Very satisfied                                                                                                  5 - Very satisfied                                                                                        5 - Very satisfied\n",
            "5  Banking & Partnerships    Banking              Permanent  Singapore (Remote)  Hiring Manager Screen  Director, Bank & Platform Partners  Victor Leong Wei De             Ola Malomo                                                                                       5 - Very satisfied                                                                                                  5 - Very satisfied                                                                                     5 - Very satisfied                                                                                           4 - Satisfied                                                                                                                                                                                                                                                                                                                                                          No feedback at this point but I must comment on HR to conclude the interview process professionally. At the same time, feedback received from the interviewers is valuable.                                                                            4 - Satisfied                                                                          5 - Very satisfied                                                                                                       4 - Satisfied                                                                                        5 - Very satisfied\n"
          ]
        }
      ]
    },
    {
      "cell_type": "code",
      "source": [
        "import pandas as pd\n",
        "octDF = pd.read_csv('October Feedback.csv')\n",
        "columnsToRemove = ['Applied On', 'Collected On', 'Anonymized Contact ID', 'Posting ID',\n",
        "                   'Current Stage ID','Application Archive Reason', 'Application Archived On',\n",
        "       'Application Archived By', 'Survey Id', 'Survey Name',\n",
        "       'Survey Location Type','Candidate Selected Location',\n",
        "       'Stage - New lead', 'Stage - Reached out', 'Stage - Responded',\n",
        "       'Stage - New applicant', 'Stage - Under review',\n",
        "       'Stage - Recruiter Screen', 'Stage - Hiring Manager Screen',\n",
        "       'Stage - 1st Round', 'Stage - 2nd Round', 'Stage - Decision',\n",
        "       'Stage - Offer','What suggestions would you make to improve our interview process? - 21866cc4-7d8f-47da-97df-9efdfcbe083d','Origin','Sources']\n",
        "newOctDF = octDF.drop(columnsToRemove,axis=1)\n",
        "octFeedback = newOctDF.where((octDF['Department'] == 'Technology') | (octDF['Department'] == 'Sales')).dropna()\n",
        "print(octFeedback.to_string())\n"
      ],
      "metadata": {
        "colab": {
          "base_uri": "https://localhost:8080/"
        },
        "id": "TGVsM6BgFgwz",
        "outputId": "07f6e8a9-f0e2-4f47-f08a-191347390544"
      },
      "execution_count": null,
      "outputs": [
        {
          "output_type": "stream",
          "name": "stdout",
          "text": [
            "                    Team  Department Commitment / Work Type            Location          Current Stage                                                           Posting Title        Posting Owner Posting Hiring Manager How satisfied were you with your Screening call? - de09e7f8-4e8c-498d-9ccb-237788b735d0 How satisfied are you with the way you were treated? - 05c18285-2750-479f-8afc-d560b66f552c Overall, how satisfied were you with your interviewing experience? - 693b0a81-d4e7-40a2-9135-7fc38fa43eaf How satisfied are you with your interviews with the Hiring Manager and Team? - 605b085d-5bba-4668-babc-17dc8304e06c How satisfied were you with the interview feedback you received? - e30211c6-d32d-4f89-95fc-dfb91bb47033 How satisfied are you with the ease of the application process? - 513b2b55-b818-4f03-bf6f-e82b180c9e60 How satisfied were you with the interview materials you received? - 4158aafc-ce92-4d35-930f-2f5451455a4d How satisfied were you with our communication during the recruiting process? - e8c5e9ae-38de-4acb-855c-8d18039b1f5c                                                                                                                                                                                                                                                                                                                                                                     Do you have any thoughts or comments that you would like to share? - a611bc41-fd5f-4f91-a277-3b0a260c7401 How satisfied were you with the ease of the application process? - 513b2b55-b818-4f03-bf6f-e82b180c9e60\n",
            "5    New Business - EMEA       Sales    Fixed Term Contract     London (Remote)              1st Round                      Sales Development Representative (French speaking)          Zoe Keevash          Fumbi Banjoko                                                                           4 - Satisfied                                                                          5 - Very satisfied                                                                                        5 - Very satisfied                                                                                                  5 - Very satisfied                                                                                      5 - Very satisfied                                                                                     5 - Very satisfied                                                                                            4 - Satisfied                                                                                                  5 - Very satisfied                                                                                                                                                                                                                                                                                                                                                                                                                                 No - the interviewers were very professional                                                                                       5 - Very satisfied\n",
            "12   New Business - EMEA       Sales    Fixed Term Contract     London (Remote)              1st Round                      Sales Development Representative (French speaking)          Zoe Keevash          Fumbi Banjoko                                                                             3 - Neutral                                                                               4 - Satisfied                                                                                          2 - Dissatisfied                                                                                                       4 - Satisfied                                                                                   1 - Very dissatisfied                                                                                            3 - Neutral                                                                                              3 - Neutral                                                                                                         3 - Neutral                                                                                                                                                                                                                                                                                                                                                                                                          The feedback was not aligned with the background of some candidates                                                                                              3 - Neutral\n",
            "13        Solutions Team       Sales              Permanent  Singapore (Remote)       Recruiter Screen                                                Lead Solutions Architect  Victor Leong Wei De               Ian Beth                                                                      5 - Very satisfied                                                                          5 - Very satisfied                                                                                             4 - Satisfied                                                                                                       4 - Satisfied                                                                                           4 - Satisfied                                                                                          4 - Satisfied                                                                                            4 - Satisfied                                                                                                  5 - Very satisfied                                                                                                                                                                                                                                                                                                                                                                                                  This feedback would be more applicable when all the interviews are done.\\r\\n                                                                                           4 - Satisfied\n",
            "14         Customer Team       Sales              Permanent        USA (Remote)              1st Round                                      Customer Success Manager (Fintech)        Arlyne Audige           Tony Cerbone                                                                           4 - Satisfied                                                                               4 - Satisfied                                                                                     1 - Very dissatisfied                                                                                                       4 - Satisfied                                                                                   1 - Very dissatisfied                                                                                  1 - Very dissatisfied                                                                                            4 - Satisfied                                                                                               1 - Very dissatisfied                                                                                                                                                               The lack of transparency, professionalism and communication left a bad taste in my mouth. Do not flatter yourself and think that my negative feedback is me being disgruntled, I am not, I am just concerned that you overlook other prospective talented employees, don't let them slip through your fingers.                                                                                    1 - Very dissatisfied\n",
            "26  Software Development  Technology              Permanent         UK (Remote)                  Offer                                           Senior Java Engineer (Remote)      Jake Pedlingham         Jose Pettoruti                                                                      5 - Very satisfied                                                                          5 - Very satisfied                                                                                             4 - Satisfied                                                                                                  5 - Very satisfied                                                                                      5 - Very satisfied                                                                               0 - Prefer not to answer                                                                                       5 - Very satisfied                                                                                                  5 - Very satisfied  Overall, the interview process was very positive, touched on a considerable number of different areas and gave me a lot of chances to ask questions. Everyone I met was very friendly and approachable, which gave me a really good impression of the company as a whole.\\r\\n\\r\\nMy answer to the first question around the application process is \"prefer not to answer\" as I was referred by an existing employee, so I managed to bypass most of the application process.                                                                                0 - Prefer not to answer\n",
            "30        Solutions Team       Sales              Permanent     London (Remote)  Hiring Manager Screen  Presales Implementation Consultant (pre/post sales) (Spanish speaking)          Zoe Keevash             Mark Lynch                                                                           4 - Satisfied                                                                               4 - Satisfied                                                                                               3 - Neutral                                                                                                         3 - Neutral                                                                                        2 - Dissatisfied                                                                                          4 - Satisfied                                                                                              3 - Neutral                                                                                                         3 - Neutral                                                                                                                                                                                                                         The role i was told was a full implementation consultant whole lifecycle, then the one i have got the impression i was really for was more a Sales one. Not sure whether that was due to the current composition of the team and their internal needs                                                                                           4 - Satisfied\n"
          ]
        }
      ]
    },
    {
      "cell_type": "code",
      "source": [
        "import pandas as pd\n",
        "octDF = pd.read_csv('October Feedback.csv')\n",
        "columnsToRemove = ['Applied On', 'Collected On', 'Anonymized Contact ID', 'Posting ID',\n",
        "                   'Current Stage ID','Application Archive Reason', 'Application Archived On',\n",
        "       'Application Archived By', 'Survey Id', 'Survey Name',\n",
        "       'Survey Location Type','Candidate Selected Location',\n",
        "       'Stage - New lead', 'Stage - Reached out', 'Stage - Responded',\n",
        "       'Stage - New applicant', 'Stage - Under review',\n",
        "       'Stage - Recruiter Screen', 'Stage - Hiring Manager Screen',\n",
        "       'Stage - 1st Round', 'Stage - 2nd Round', 'Stage - Decision',\n",
        "       'Stage - Offer','What suggestions would you make to improve our interview process? - 21866cc4-7d8f-47da-97df-9efdfcbe083d','Origin','Sources']\n",
        "newOctDF = octDF.drop(columnsToRemove,axis=1)\n",
        "octFeedback1 = newOctDF.where((octDF['Department'] == 'Banking') | (octDF['Team'] == 'Software Development')).dropna()\n",
        "print(octFeedback1.to_string())"
      ],
      "metadata": {
        "colab": {
          "base_uri": "https://localhost:8080/"
        },
        "id": "kiln2-cGFguP",
        "outputId": "713f1668-6b19-4f31-d35f-d838035613c7"
      },
      "execution_count": null,
      "outputs": [
        {
          "output_type": "stream",
          "name": "stdout",
          "text": [
            "                      Team  Department Commitment / Work Type            Location          Current Stage                       Posting Title        Posting Owner Posting Hiring Manager How satisfied were you with your Screening call? - de09e7f8-4e8c-498d-9ccb-237788b735d0 How satisfied are you with the way you were treated? - 05c18285-2750-479f-8afc-d560b66f552c Overall, how satisfied were you with your interviewing experience? - 693b0a81-d4e7-40a2-9135-7fc38fa43eaf How satisfied are you with your interviews with the Hiring Manager and Team? - 605b085d-5bba-4668-babc-17dc8304e06c How satisfied were you with the interview feedback you received? - e30211c6-d32d-4f89-95fc-dfb91bb47033 How satisfied are you with the ease of the application process? - 513b2b55-b818-4f03-bf6f-e82b180c9e60 How satisfied were you with the interview materials you received? - 4158aafc-ce92-4d35-930f-2f5451455a4d How satisfied were you with our communication during the recruiting process? - e8c5e9ae-38de-4acb-855c-8d18039b1f5c                                                                                                                                                                                                                                                                                                                                                                     Do you have any thoughts or comments that you would like to share? - a611bc41-fd5f-4f91-a277-3b0a260c7401 How satisfied were you with the ease of the application process? - 513b2b55-b818-4f03-bf6f-e82b180c9e60\n",
            "18  Banking & Partnerships     Banking              Permanent  Singapore (Remote)  Hiring Manager Screen  Director, Bank & Platform Partners  Victor Leong Wei De             Ola Malomo                                                                      5 - Very satisfied                                                                          5 - Very satisfied                                                                                        5 - Very satisfied                                                                                            0 - Prefer not to answer                                                                                      5 - Very satisfied                                                                                     5 - Very satisfied                                                                                 0 - Prefer not to answer                                                                                                  5 - Very satisfied                                                                                                                                                                                                                                                                                                                                                                                                                        Hope to speak soon on other forthcoming opportunities!                                                                                      5 - Very satisfied\n",
            "19  Banking & Partnerships     Banking              Permanent  Singapore (Remote)       Recruiter Screen  Director, Bank & Platform Partners  Victor Leong Wei De             Ola Malomo                                                                           4 - Satisfied                                                                          5 - Very satisfied                                                                                        5 - Very satisfied                                                                                                         3 - Neutral                                                                                      5 - Very satisfied                                                                                     5 - Very satisfied                                                                                       5 - Very satisfied                                                                                                       4 - Satisfied                                                                                                                                                                                                                                                                                                                                                                              The most put together pre interview process and knowing whom I’m meeting and the whole process.                                                                                       5 - Very satisfied\n",
            "26    Software Development  Technology              Permanent         UK (Remote)                  Offer       Senior Java Engineer (Remote)      Jake Pedlingham         Jose Pettoruti                                                                      5 - Very satisfied                                                                          5 - Very satisfied                                                                                             4 - Satisfied                                                                                                  5 - Very satisfied                                                                                      5 - Very satisfied                                                                               0 - Prefer not to answer                                                                                       5 - Very satisfied                                                                                                  5 - Very satisfied  Overall, the interview process was very positive, touched on a considerable number of different areas and gave me a lot of chances to ask questions. Everyone I met was very friendly and approachable, which gave me a really good impression of the company as a whole.\\r\\n\\r\\nMy answer to the first question around the application process is \"prefer not to answer\" as I was referred by an existing employee, so I managed to bypass most of the application process.                                                                                0 - Prefer not to answer\n"
          ]
        }
      ]
    },
    {
      "cell_type": "code",
      "source": [
        "import pandas as pd\n",
        "novDF = pd.read_csv('November Feedback.csv')\n",
        "columnsToRemove = ['Applied On', 'Collected On', 'Anonymized Contact ID', 'Posting ID',\n",
        "                   'Current Stage ID','Application Archive Reason', 'Application Archived On',\n",
        "       'Application Archived By', 'Survey Id', 'Survey Name',\n",
        "       'Survey Location Type','Candidate Selected Location',\n",
        "       'Stage - New lead', 'Stage - Reached out', 'Stage - Responded',\n",
        "       'Stage - New applicant', 'Stage - Under review',\n",
        "       'Stage - Recruiter Screen', 'Stage - Hiring Manager Screen',\n",
        "       'Stage - 1st Round', 'Stage - 2nd Round', 'Stage - Decision',\n",
        "       'Stage - Offer','What suggestions would you make to improve our interview process? - 21866cc4-7d8f-47da-97df-9efdfcbe083d','Origin','Sources']\n",
        "newNovDF = novDF.drop(columnsToRemove,axis=1)\n",
        "novFeedback = newNovDF.where((novDF['Department'] == 'Sales') | (novDF['Department'] == 'Operations')).dropna()\n",
        "print(novFeedback.to_string())"
      ],
      "metadata": {
        "colab": {
          "base_uri": "https://localhost:8080/"
        },
        "id": "hO5UZrDqGoEo",
        "outputId": "a5d85a7f-ee14-4921-c8f1-23bf381a8767"
      },
      "execution_count": null,
      "outputs": [
        {
          "output_type": "stream",
          "name": "stdout",
          "text": [
            "                   Team  Department Commitment / Work Type            Location          Current Stage                                           Posting Title        Posting Owner Posting Hiring Manager How satisfied were you with our communication during the recruiting process? - e8c5e9ae-38de-4acb-855c-8d18039b1f5c How satisfied were you with the interview materials you received? - 4158aafc-ce92-4d35-930f-2f5451455a4d How satisfied are you with your interviews with the Hiring Manager and Team? - 605b085d-5bba-4668-babc-17dc8304e06c How satisfied were you with the interview feedback you received? - e30211c6-d32d-4f89-95fc-dfb91bb47033                                                                                                                                                                                                                                 Do you have any thoughts or comments that you would like to share? - a611bc41-fd5f-4f91-a277-3b0a260c7401 How satisfied were you with your Screening call? - de09e7f8-4e8c-498d-9ccb-237788b735d0 How satisfied are you with the way you were treated? - 05c18285-2750-479f-8afc-d560b66f552c Overall, how satisfied were you with your interviewing experience? - 693b0a81-d4e7-40a2-9135-7fc38fa43eaf How satisfied were you with the ease of the application process? - 513b2b55-b818-4f03-bf6f-e82b180c9e60\n",
            "20     Service Delivery  Operations              Permanent  Amsterdam (Remote)  Hiring Manager Screen                              Core Operations Specialist    Gabrielle Wheeler             Liz Bishop                                                                                               1 - Very dissatisfied                                                                                    1 - Very dissatisfied                                                                                               1 - Very dissatisfied                                                                                   1 - Very dissatisfied                                                                                                                                                                                                                                                                                                                                       No.                                                                   1 - Very dissatisfied                                                                       1 - Very dissatisfied                                                                                     1 - Very dissatisfied                                                                                           4 - Satisfied\n",
            "23        Customer Team       Sales              Permanent  Singapore (Remote)  Hiring Manager Screen                                         Account Manager  Victor Leong Wei De             Ben Achirn                                                                                                  5 - Very satisfied                                                                                       5 - Very satisfied                                                                                                  5 - Very satisfied                                                                                      5 - Very satisfied                                                                                                                                                                                                                                                                               Good communication and ease of reaching out to hiring team.                                                                      5 - Very satisfied                                                                          5 - Very satisfied                                                                                        5 - Very satisfied                                                                                      5 - Very satisfied\n",
            "27    Partnerships Team       Sales              Permanent     London (Remote)  Hiring Manager Screen        Commercial Partnerships Manager - Card Ecosystem          Zoe Keevash       Richard Stockley                                                                                                       4 - Satisfied                                                                                            4 - Satisfied                                                                                                       4 - Satisfied                                                                                           4 - Satisfied                                                                                                                                                                                                                                                                                    Everyone was great and the process moved along quickly                                                                           4 - Satisfied                                                                               4 - Satisfied                                                                                             4 - Satisfied                                                                                           4 - Satisfied\n",
            "30        Customer Team       Sales              Permanent        USA (Remote)              2nd Round                      Customer Success Manager (Fintech)        Arlyne Audige           Tony Cerbone                                                                                               1 - Very dissatisfied                                                                                         2 - Dissatisfied                                                                                               1 - Very dissatisfied                                                                                   1 - Very dissatisfied                                                                                                                                                                                                                                                                                              Just disappointed with the professionalism.                                                                            4 - Satisfied                                                                       1 - Very dissatisfied                                                                                          2 - Dissatisfied                                                                                      5 - Very satisfied\n",
            "31  Customer Experience       Sales              Permanent        USA (Remote)                  Offer  Presales Implementation Solutions Consultant (Fintech)        Arlyne Audige          Shi-Huey Chen                                                                                                  5 - Very satisfied                                                                                            4 - Satisfied                                                                                                  5 - Very satisfied                                                                                             3 - Neutral  I felt very well taken care of during the entire process. Once I started I was actually impressed and surprised to hear I was hired along with 3 other people same day. They treated me like I was the only person coming on that day - so their organization skills are great!!  I have a very high respect for the CC hiring process.                                                                       5 - Very satisfied                                                                          5 - Very satisfied                                                                                        5 - Very satisfied                                                                                      5 - Very satisfied\n",
            "37     Customer Success       Sales              Permanent     London (Remote)                  Offer                      Customer Success Manager (Fintech)          Zoe Keevash             Elsa Pires                                                                                                       4 - Satisfied                                                                                       5 - Very satisfied                                                                                                  5 - Very satisfied                                                                                      5 - Very satisfied                                                                                                                                                                      The materials provided were a great help and insight into the company. The process was clearly communicated along the way and feedback was constructive and useful.                                                                       5 - Very satisfied                                                                          5 - Very satisfied                                                                                        5 - Very satisfied                                                                                      5 - Very satisfied\n",
            "40  Customer Operations  Operations              Permanent    Cardiff (Remote)                  Offer              Customer Operations Specialist (Day Shift)    Gabrielle Wheeler          Declan McPate                                                                                                  5 - Very satisfied                                                                                       5 - Very satisfied                                                                                                  5 - Very satisfied                                                                                      5 - Very satisfied                                                                                                                                                                                                                                                                                                 Very clear process to follow throughout.                                                                       5 - Very satisfied                                                                          5 - Very satisfied                                                                                        5 - Very satisfied                                                                                      5 - Very satisfied\n",
            "45        Customer Team       Sales              Permanent  Singapore (Remote)              1st Round                                         Account Manager  Victor Leong Wei De             Ben Achirn                                                                                                  5 - Very satisfied                                                                                       5 - Very satisfied                                                                                                  5 - Very satisfied                                                                                      5 - Very satisfied                                                                                                                                                            Wanted to express deep thanks and gratitude for the Currencycloud team in my experience interviewing with the team. I could tell that it’s a really great company to work for!                                                                      5 - Very satisfied                                                                          5 - Very satisfied                                                                                        5 - Very satisfied                                                                                      5 - Very satisfied\n"
          ]
        }
      ]
    },
    {
      "cell_type": "code",
      "source": [
        "import pandas as pd\n",
        "novDF = pd.read_csv('November Feedback.csv')\n",
        "columnsToRemove = ['Applied On', 'Collected On', 'Anonymized Contact ID', 'Posting ID',\n",
        "                   'Current Stage ID','Application Archive Reason', 'Application Archived On',\n",
        "       'Application Archived By', 'Survey Id', 'Survey Name',\n",
        "       'Survey Location Type','Candidate Selected Location',\n",
        "       'Stage - New lead', 'Stage - Reached out', 'Stage - Responded',\n",
        "       'Stage - New applicant', 'Stage - Under review',\n",
        "       'Stage - Recruiter Screen', 'Stage - Hiring Manager Screen',\n",
        "       'Stage - 1st Round', 'Stage - 2nd Round', 'Stage - Decision',\n",
        "       'Stage - Offer','What suggestions would you make to improve our interview process? - 21866cc4-7d8f-47da-97df-9efdfcbe083d','Origin','Sources']\n",
        "newNovDF = novDF.drop(columnsToRemove,axis=1)\n",
        "newNovDF = newNovDF.where((novDF['Location'] == 'UK (Remote)') |(novDF['Location'] == 'USA (Remote)')).dropna()\n",
        "print(newNovDF.to_string())"
      ],
      "metadata": {
        "colab": {
          "base_uri": "https://localhost:8080/"
        },
        "id": "i9UEw_bSIJwK",
        "outputId": "55d9b66f-9fa4-49d8-84b2-ee7fb1a47682"
      },
      "execution_count": null,
      "outputs": [
        {
          "output_type": "stream",
          "name": "stdout",
          "text": [
            "                    Team  Department Commitment / Work Type      Location     Current Stage                                           Posting Title    Posting Owner Posting Hiring Manager How satisfied were you with our communication during the recruiting process? - e8c5e9ae-38de-4acb-855c-8d18039b1f5c How satisfied were you with the interview materials you received? - 4158aafc-ce92-4d35-930f-2f5451455a4d How satisfied are you with your interviews with the Hiring Manager and Team? - 605b085d-5bba-4668-babc-17dc8304e06c How satisfied were you with the interview feedback you received? - e30211c6-d32d-4f89-95fc-dfb91bb47033                                                                                                                                                                                                                                 Do you have any thoughts or comments that you would like to share? - a611bc41-fd5f-4f91-a277-3b0a260c7401 How satisfied were you with your Screening call? - de09e7f8-4e8c-498d-9ccb-237788b735d0 How satisfied are you with the way you were treated? - 05c18285-2750-479f-8afc-d560b66f552c Overall, how satisfied were you with your interviewing experience? - 693b0a81-d4e7-40a2-9135-7fc38fa43eaf How satisfied were you with the ease of the application process? - 513b2b55-b818-4f03-bf6f-e82b180c9e60\n",
            "16               Product     Product              Permanent   UK (Remote)             Offer                                Product Manager (Remote)  Jake Pedlingham          Stuart Bailey                                                                                                  5 - Very satisfied                                                                                       5 - Very satisfied                                                                                                  5 - Very satisfied                                                                                           4 - Satisfied                                                                                                                                                                                                                                                                           Everyone was really helpful, supportive and friendly throughout                                                                      5 - Very satisfied                                                                          5 - Very satisfied                                                                                        5 - Very satisfied                                                                                      5 - Very satisfied\n",
            "24               Product     Product              Permanent   UK (Remote)         1st Round                         Agile Delivery Manager (Remote)  Jake Pedlingham         Jenna Grierson                                                                                                  5 - Very satisfied                                                                                       5 - Very satisfied                                                                                                  5 - Very satisfied                                                                                           4 - Satisfied                                                                                                                                                                                                                                                                                                                    very satisfied overall                                                                      5 - Very satisfied                                                                          5 - Very satisfied                                                                                        5 - Very satisfied                                                                                      5 - Very satisfied\n",
            "29  Software Development  Technology              Permanent   UK (Remote)  Recruiter Screen                                              Head of QA  Jake Pedlingham         Jose Pettoruti                                                                                                  5 - Very satisfied                                                                                       5 - Very satisfied                                                                                                         3 - Neutral                                                                                             3 - Neutral                                                                                                                             One thing which I would like to share is the hiring manager's way of labelling QA and testing personnel as \"second-class citizens\" itself speaks how the current QA engineers within the company are treated.                                                                      5 - Very satisfied                                                                                 3 - Neutral                                                                                             4 - Satisfied                                                                                      5 - Very satisfied\n",
            "30         Customer Team       Sales              Permanent  USA (Remote)         2nd Round                      Customer Success Manager (Fintech)    Arlyne Audige           Tony Cerbone                                                                                               1 - Very dissatisfied                                                                                         2 - Dissatisfied                                                                                               1 - Very dissatisfied                                                                                   1 - Very dissatisfied                                                                                                                                                                                                                                                                                              Just disappointed with the professionalism.                                                                            4 - Satisfied                                                                       1 - Very dissatisfied                                                                                          2 - Dissatisfied                                                                                      5 - Very satisfied\n",
            "31   Customer Experience       Sales              Permanent  USA (Remote)             Offer  Presales Implementation Solutions Consultant (Fintech)    Arlyne Audige          Shi-Huey Chen                                                                                                  5 - Very satisfied                                                                                            4 - Satisfied                                                                                                  5 - Very satisfied                                                                                             3 - Neutral  I felt very well taken care of during the entire process. Once I started I was actually impressed and surprised to hear I was hired along with 3 other people same day. They treated me like I was the only person coming on that day - so their organization skills are great!!  I have a very high respect for the CC hiring process.                                                                       5 - Very satisfied                                                                          5 - Very satisfied                                                                                        5 - Very satisfied                                                                                      5 - Very satisfied\n"
          ]
        }
      ]
    },
    {
      "cell_type": "code",
      "source": [
        "import pandas as pd\n",
        "decDF = pd.read_csv('December Feeback.csv')\n",
        "columnsToRemove = ['Applied On', 'Collected On', 'Anonymized Contact ID', 'Posting ID',\n",
        "                   'Current Stage ID','Application Archive Reason', 'Application Archived On',\n",
        "       'Application Archived By', 'Survey Id', 'Survey Name',\n",
        "       'Survey Location Type','Candidate Selected Location',\n",
        "       'Stage - New lead', 'Stage - Reached out', 'Stage - Responded',\n",
        "       'Stage - New applicant', 'Stage - Under review',\n",
        "       'Stage - Recruiter Screen', 'Stage - Hiring Manager Screen',\n",
        "       'Stage - 1st Round', 'Stage - 2nd Round', 'Stage - Decision',\n",
        "       'Stage - Offer','What suggestions would you make to improve our interview process? - 21866cc4-7d8f-47da-97df-9efdfcbe083d','Origin','Sources',\n",
        "                   'How satisfied are you with the way you were treated? - 05c18285-2750-479f-8afc-d560b66f552c',\n",
        "       'Overall, how satisfied were you with your interviewing experience? - 693b0a81-d4e7-40a2-9135-7fc38fa43eaf',\n",
        "       'How satisfied were you with the ease of the application process? - 513b2b55-b818-4f03-bf6f-e82b180c9e60',\n",
        "       'How satisfied were you with the interview materials you received? - 4158aafc-ce92-4d35-930f-2f5451455a4d',\n",
        "       'How satisfied were you with our communication during the recruiting process? - e8c5e9ae-38de-4acb-855c-8d18039b1f5c',\n",
        "       'How satisfied are you with your interviews with the Hiring Manager and Team? - 605b085d-5bba-4668-babc-17dc8304e06c',\n",
        "       'How satisfied were you with the interview feedback you received? - e30211c6-d32d-4f89-95fc-dfb91bb47033',\n",
        "       'Do you have any thoughts or comments that you would like to share? - a611bc41-fd5f-4f91-a277-3b0a260c7401',\n",
        "       'How satisfied were you with your Screening call? - de09e7f8-4e8c-498d-9ccb-237788b735d0']\n",
        "decTeam = decDF.drop(columnsToRemove,axis=1)\n",
        "decAmerica = decTeam.where(decDF['Team'] == 'New Business - North America').dropna()\n",
        "print(decAmerica.to_string())\n"
      ],
      "metadata": {
        "colab": {
          "base_uri": "https://localhost:8080/"
        },
        "id": "6eMWFEnbJKcO",
        "outputId": "8326c429-f6f0-42df-f8d8-31f951bdecac"
      },
      "execution_count": null,
      "outputs": [
        {
          "output_type": "stream",
          "name": "stdout",
          "text": [
            "                            Team Department Commitment / Work Type      Location          Current Stage                         Posting Title  Posting Owner Posting Hiring Manager\n",
            "6   New Business - North America      Sales              Permanent  USA (Remote)  Hiring Manager Screen  Account Executive (Payments/Fintech)  Arlyne Audige         Dave Heitzmann\n",
            "7   New Business - North America      Sales              Permanent  USA (Remote)  Hiring Manager Screen    Senior Account Executive (Fintech)  Arlyne Audige         Dave Heitzmann\n",
            "8   New Business - North America      Sales              Permanent  USA (Remote)  Hiring Manager Screen    Senior Account Executive (Fintech)  Arlyne Audige         Dave Heitzmann\n",
            "34  New Business - North America      Sales              Permanent  USA (Remote)       Recruiter Screen  Account Executive (Payments/Fintech)  Arlyne Audige         Dave Heitzmann\n"
          ]
        }
      ]
    },
    {
      "cell_type": "code",
      "source": [
        "import pandas as pd\n",
        "decDF = pd.read_csv('December Feeback.csv')\n",
        "columnsToRemove = ['Applied On', 'Collected On', 'Anonymized Contact ID', 'Posting ID',\n",
        "                   'Current Stage ID','Application Archive Reason', 'Application Archived On',\n",
        "       'Application Archived By', 'Survey Id', 'Survey Name',\n",
        "       'Survey Location Type','Candidate Selected Location',\n",
        "       'Stage - New lead', 'Stage - Reached out', 'Stage - Responded',\n",
        "       'Stage - New applicant', 'Stage - Under review',\n",
        "       'Stage - Recruiter Screen', 'Stage - Hiring Manager Screen',\n",
        "       'Stage - 1st Round', 'Stage - 2nd Round', 'Stage - Decision',\n",
        "       'Stage - Offer','What suggestions would you make to improve our interview process? - 21866cc4-7d8f-47da-97df-9efdfcbe083d','Origin','Sources',\n",
        "                   'How satisfied are you with the way you were treated? - 05c18285-2750-479f-8afc-d560b66f552c',\n",
        "       'Overall, how satisfied were you with your interviewing experience? - 693b0a81-d4e7-40a2-9135-7fc38fa43eaf',\n",
        "       'How satisfied were you with the ease of the application process? - 513b2b55-b818-4f03-bf6f-e82b180c9e60',\n",
        "       'How satisfied were you with the interview materials you received? - 4158aafc-ce92-4d35-930f-2f5451455a4d',\n",
        "       'How satisfied were you with our communication during the recruiting process? - e8c5e9ae-38de-4acb-855c-8d18039b1f5c',\n",
        "       'How satisfied are you with your interviews with the Hiring Manager and Team? - 605b085d-5bba-4668-babc-17dc8304e06c',\n",
        "       'How satisfied were you with the interview feedback you received? - e30211c6-d32d-4f89-95fc-dfb91bb47033',\n",
        "       'Do you have any thoughts or comments that you would like to share? - a611bc41-fd5f-4f91-a277-3b0a260c7401',\n",
        "       'How satisfied were you with your Screening call? - de09e7f8-4e8c-498d-9ccb-237788b735d0']\n",
        "decTeam = decDF.drop(columnsToRemove,axis=1)\n",
        "decBusiness = decTeam.where((decDF['Team'] == 'Customer Team') | (decDF['Team'] == 'Solutions Team') | (decDF['Team'] == 'Product')).dropna()\n",
        "print(decBusiness.to_string())"
      ],
      "metadata": {
        "colab": {
          "base_uri": "https://localhost:8080/"
        },
        "id": "33T6Py3NLPD3",
        "outputId": "5a83a53a-ba88-464d-a165-cec36da2b468"
      },
      "execution_count": null,
      "outputs": [
        {
          "output_type": "stream",
          "name": "stdout",
          "text": [
            "              Team Department Commitment / Work Type            Location          Current Stage                                        Posting Title        Posting Owner Posting Hiring Manager\n",
            "0   Solutions Team      Sales              Permanent  Singapore (Remote)  Hiring Manager Screen                             Lead Solutions Architect  Victor Leong Wei De               Ian Beth\n",
            "2   Solutions Team      Sales              Permanent      Spain (Remote)       Recruiter Screen  Presales Implementation Consultant (pre/post sales)          Zoe Keevash             Mark Lynch\n",
            "3    Customer Team      Sales              Permanent        USA (Remote)  Hiring Manager Screen                   Customer Success Manager (Fintech)        Arlyne Audige           Tony Cerbone\n",
            "5   Solutions Team      Sales              Permanent      Spain (Remote)              1st Round  Presales Implementation Consultant (pre/post sales)          Zoe Keevash             Mark Lynch\n",
            "10   Customer Team      Sales              Permanent     London (Remote)  Hiring Manager Screen  Senior Enterprise Account Manager (Fintech/Banking)          Zoe Keevash          Andrew Nelson\n",
            "11   Customer Team      Sales              Permanent  Singapore (Remote)                  Offer                                      Account Manager  Victor Leong Wei De             Ben Achirn\n",
            "13         Product    Product              Permanent  Singapore (Remote)               Decision                               Product Manager (APAC)  Victor Leong Wei De         Elisa Monacchi\n",
            "14         Product    Product              Permanent  Singapore (Remote)              1st Round                               Product Manager (APAC)  Victor Leong Wei De         Elisa Monacchi\n",
            "16   Customer Team      Sales              Permanent   New York (Remote)       Recruiter Screen                               Senior Account Manager        Arlyne Audige           Tony Cerbone\n",
            "18   Customer Team      Sales              Permanent        USA (Remote)  Hiring Manager Screen                   Customer Success Manager (Fintech)        Arlyne Audige           Tony Cerbone\n",
            "20   Customer Team      Sales              Permanent     London (Remote)              1st Round  Senior Enterprise Account Manager (Fintech/Banking)          Zoe Keevash          Andrew Nelson\n",
            "21   Customer Team      Sales              Permanent        USA (Remote)  Hiring Manager Screen                   Customer Success Manager (Fintech)        Arlyne Audige           Tony Cerbone\n",
            "22   Customer Team      Sales              Permanent   New York (Remote)       Recruiter Screen                               Senior Account Manager        Arlyne Audige           Tony Cerbone\n",
            "25   Customer Team      Sales              Permanent        USA (Remote)  Hiring Manager Screen                   Customer Success Manager (Fintech)        Arlyne Audige           Tony Cerbone\n",
            "33   Customer Team      Sales              Permanent        USA (Remote)  Hiring Manager Screen                   Customer Success Manager (Fintech)        Arlyne Audige           Tony Cerbone\n",
            "35   Customer Team      Sales              Permanent        USA (Remote)  Hiring Manager Screen                   Customer Success Manager (Fintech)        Arlyne Audige           Tony Cerbone\n"
          ]
        }
      ]
    },
    {
      "cell_type": "code",
      "source": [
        "import pandas as pd\n",
        "decDF = pd.read_csv('December Feeback.csv')\n",
        "columnsToRemove = ['Applied On', 'Collected On', 'Anonymized Contact ID', 'Posting ID',\n",
        "                   'Current Stage ID','Application Archive Reason', 'Application Archived On',\n",
        "       'Application Archived By', 'Survey Id', 'Survey Name',\n",
        "       'Survey Location Type','Candidate Selected Location',\n",
        "       'Stage - New lead', 'Stage - Reached out', 'Stage - Responded',\n",
        "       'Stage - New applicant', 'Stage - Under review',\n",
        "       'Stage - Recruiter Screen', 'Stage - Hiring Manager Screen',\n",
        "       'Stage - 1st Round', 'Stage - 2nd Round', 'Stage - Decision',\n",
        "       'Stage - Offer','What suggestions would you make to improve our interview process? - 21866cc4-7d8f-47da-97df-9efdfcbe083d','Origin','Sources',\n",
        "                   'How satisfied are you with the way you were treated? - 05c18285-2750-479f-8afc-d560b66f552c',\n",
        "       'Overall, how satisfied were you with your interviewing experience? - 693b0a81-d4e7-40a2-9135-7fc38fa43eaf',\n",
        "       'How satisfied were you with the ease of the application process? - 513b2b55-b818-4f03-bf6f-e82b180c9e60',\n",
        "       'How satisfied were you with the interview materials you received? - 4158aafc-ce92-4d35-930f-2f5451455a4d',\n",
        "       'How satisfied were you with our communication during the recruiting process? - e8c5e9ae-38de-4acb-855c-8d18039b1f5c',\n",
        "       'How satisfied are you with your interviews with the Hiring Manager and Team? - 605b085d-5bba-4668-babc-17dc8304e06c',\n",
        "       'How satisfied were you with the interview feedback you received? - e30211c6-d32d-4f89-95fc-dfb91bb47033',\n",
        "       'Do you have any thoughts or comments that you would like to share? - a611bc41-fd5f-4f91-a277-3b0a260c7401',\n",
        "       'How satisfied were you with your Screening call? - de09e7f8-4e8c-498d-9ccb-237788b735d0']\n",
        "decTeam = decDF.drop(columnsToRemove,axis=1)\n",
        "decBusiness = decTeam.where((decDF['Team'] == 'Customer Team') | (decDF['Team'] == 'Solutions Team') | (decDF['Team'] == 'Product')).dropna()\n",
        "print(decBusiness.to_string())"
      ],
      "metadata": {
        "id": "V-kDwj0EMjb_"
      },
      "execution_count": null,
      "outputs": []
    },
    {
      "cell_type": "code",
      "source": [
        "import pandas as pd\n",
        "sepDF = pd.read_csv('September Feedback.csv')\n",
        "columnsToRemove = ['Applied On', 'Collected On', 'Anonymized Contact ID', 'Posting ID',\n",
        "                   'Current Stage ID','Application Archive Reason', 'Application Archived On',\n",
        "       'Application Archived By', 'Survey Id', 'Survey Name',\n",
        "       'Survey Location Type','Candidate Selected Location',\n",
        "       'Stage - New lead', 'Stage - Reached out', 'Stage - Responded',\n",
        "       'Stage - New applicant', 'Stage - Under review',\n",
        "       'Stage - Recruiter Screen', 'Stage - Hiring Manager Screen',\n",
        "       'Stage - 1st Round', 'Stage - 2nd Round', 'Stage - Decision',\n",
        "       'Stage - Offer','What suggestions would you make to improve our interview process? - 21866cc4-7d8f-47da-97df-9efdfcbe083d','Origin','Sources',\n",
        "                   'How satisfied are you with the way you were treated? - 05c18285-2750-479f-8afc-d560b66f552c',\n",
        "       'Overall, how satisfied were you with your interviewing experience? - 693b0a81-d4e7-40a2-9135-7fc38fa43eaf',\n",
        "       'How satisfied were you with the interview materials you received? - 4158aafc-ce92-4d35-930f-2f5451455a4d',\n",
        "       'How satisfied were you with our communication during the recruiting process? - e8c5e9ae-38de-4acb-855c-8d18039b1f5c',\n",
        "       'How satisfied are you with your interviews with the Hiring Manager and Team? - 605b085d-5bba-4668-babc-17dc8304e06c',\n",
        "       'How satisfied were you with the interview feedback you received? - e30211c6-d32d-4f89-95fc-dfb91bb47033',\n",
        "       'Do you have any thoughts or comments that you would like to share? - a611bc41-fd5f-4f91-a277-3b0a260c7401',\n",
        "       'How satisfied were you with your Screening call? - de09e7f8-4e8c-498d-9ccb-237788b735d0']\n",
        "newSepDF = sepDF.drop(columnsToRemove,axis=1)\n",
        "sepTeamOne = newSepDF.where((sepDF['Department'] == 'Technology') | (sepDF['Department'] == 'Banking')).dropna()\n",
        "print(sepTeamOne.to_string())"
      ],
      "metadata": {
        "colab": {
          "base_uri": "https://localhost:8080/"
        },
        "id": "NZgPUCKhM1XG",
        "outputId": "4bc058d2-7494-47f6-d3ec-9f2b0fa53f44"
      },
      "execution_count": null,
      "outputs": [
        {
          "output_type": "stream",
          "name": "stdout",
          "text": [
            "                      Team  Department Commitment / Work Type            Location          Current Stage                                     Posting Title        Posting Owner Posting Hiring Manager How satisfied are you with the ease of the application process? - 513b2b55-b818-4f03-bf6f-e82b180c9e60\n",
            "3   Banking & Partnerships     Banking              Permanent  Singapore (Remote)  Hiring Manager Screen                Director, Bank & Platform Partners  Victor Leong Wei De             Ola Malomo                                                                                     5 - Very satisfied\n",
            "4   Banking & Partnerships     Banking              Permanent  Singapore (Remote)       Recruiter Screen                Director, Bank & Platform Partners  Victor Leong Wei De             Ola Malomo                                                                                     5 - Very satisfied\n",
            "5   Banking & Partnerships     Banking              Permanent  Singapore (Remote)  Hiring Manager Screen                Director, Bank & Platform Partners  Victor Leong Wei De             Ola Malomo                                                                                     5 - Very satisfied\n",
            "7     Platform Engineering  Technology              Permanent     London (Remote)              2nd Round  Engineering Manager (Cloud Platform Engineering)      Jake Pedlingham           James Birnie                                                                                          4 - Satisfied\n",
            "9     Software Development  Technology              Permanent         UK (Remote)  Hiring Manager Screen                    Senior Scala Engineer (Remote)      Jake Pedlingham         Jose Pettoruti                                                                                            3 - Neutral\n",
            "11    Software Development  Technology              Permanent     London (Remote)                  Offer                      Engineering Manager (Remote)      Jake Pedlingham         Jose Pettoruti                                                                                     5 - Very satisfied\n",
            "13    Software Development  Technology              Permanent         UK (Remote)                  Offer                   Java Software Engineer (Remote)      Jake Pedlingham         Jose Pettoruti                                                                                     5 - Very satisfied\n"
          ]
        }
      ]
    },
    {
      "cell_type": "code",
      "source": [
        "import pandas as pd\n",
        "JanDF = pd.read_csv('Jan Feedback.csv')\n",
        "columnsToRemove = ['Applied On', 'Collected On', 'Anonymized Contact ID', 'Posting ID',\n",
        "                   'Current Stage ID','Application Archive Reason', 'Application Archived On',\n",
        "       'Application Archived By', 'Survey Id', 'Survey Name',\n",
        "       'Survey Location Type','Candidate Selected Location',\n",
        "       'Stage - New lead', 'Stage - Reached out', 'Stage - Responded',\n",
        "       'Stage - New applicant', 'Stage - Under review',\n",
        "       'Stage - Recruiter Screen', 'Stage - Hiring Manager Screen',\n",
        "       'Stage - 1st Round', 'Stage - 2nd Round', 'Stage - Decision',\n",
        "       'Stage - Offer','What suggestions would you make to improve our interview process? - 21866cc4-7d8f-47da-97df-9efdfcbe083d','Origin','Sources',\n",
        "                   'How satisfied are you with the way you were treated? - 05c18285-2750-479f-8afc-d560b66f552c',\n",
        "       'Overall, how satisfied were you with your interviewing experience? - 693b0a81-d4e7-40a2-9135-7fc38fa43eaf',\n",
        "       'How satisfied were you with the interview materials you received? - 4158aafc-ce92-4d35-930f-2f5451455a4d',\n",
        "       'How satisfied were you with our communication during the recruiting process? - e8c5e9ae-38de-4acb-855c-8d18039b1f5c',\n",
        "       'How satisfied are you with your interviews with the Hiring Manager and Team? - 605b085d-5bba-4668-babc-17dc8304e06c',\n",
        "       'How satisfied were you with the interview feedback you received? - e30211c6-d32d-4f89-95fc-dfb91bb47033',\n",
        "       'Do you have any thoughts or comments that you would like to share? - a611bc41-fd5f-4f91-a277-3b0a260c7401',\n",
        "       'How satisfied were you with your Screening call? - de09e7f8-4e8c-498d-9ccb-237788b735d0']\n",
        "newJanDF = JanDF.drop(columnsToRemove,axis=1)\n",
        "janSoft = newJanDF.where(JanDF['Team'] == 'Software Engineering').dropna()\n",
        "print(janSoft.to_string())\n"
      ],
      "metadata": {
        "colab": {
          "base_uri": "https://localhost:8080/"
        },
        "id": "rMO6HEClNcKk",
        "outputId": "f81989fd-6814-47f3-bd6f-1e7192b3d890"
      },
      "execution_count": null,
      "outputs": [
        {
          "output_type": "stream",
          "name": "stdout",
          "text": [
            "                    Team  Department Commitment / Work Type        Location          Current Stage                    Posting Title    Posting Owner Posting Hiring Manager How satisfied were you with the ease of the application process? - 513b2b55-b818-4f03-bf6f-e82b180c9e60\n",
            "15  Software Engineering  Technology              Permanent  United Kingdom              1st Round     Engineering Manager (Remote)  Jake Pedlingham         Jose Pettoruti                                                                                      5 - Very satisfied\n",
            "16  Software Engineering  Technology              Permanent  United Kingdom       Recruiter Screen  Java Software Engineer (Remote)  Jake Pedlingham         Jose Pettoruti                                                                                           4 - Satisfied\n",
            "29  Software Engineering  Technology              Permanent  United Kingdom       Recruiter Screen     Engineering Manager (Remote)  Jake Pedlingham         Jose Pettoruti                                                                                             3 - Neutral\n",
            "34  Software Engineering  Technology              Permanent     Netherlands  Hiring Manager Screen     Engineering Manager (Remote)  Jake Pedlingham         Jose Pettoruti                                                                                           4 - Satisfied\n"
          ]
        }
      ]
    },
    {
      "cell_type": "code",
      "source": [
        "import pandas as pd\n",
        "JanDF = pd.read_csv('Jan Feedback.csv')\n",
        "columnsToRemove = ['Applied On', 'Collected On', 'Anonymized Contact ID', 'Posting ID',\n",
        "                   'Current Stage ID','Application Archive Reason', 'Application Archived On',\n",
        "       'Application Archived By', 'Survey Id', 'Survey Name',\n",
        "       'Survey Location Type','Candidate Selected Location',\n",
        "       'Stage - New lead', 'Stage - Reached out', 'Stage - Responded',\n",
        "       'Stage - New applicant', 'Stage - Under review',\n",
        "       'Stage - Recruiter Screen', 'Stage - Hiring Manager Screen',\n",
        "       'Stage - 1st Round', 'Stage - 2nd Round', 'Stage - Decision',\n",
        "       'Stage - Offer','What suggestions would you make to improve our interview process? - 21866cc4-7d8f-47da-97df-9efdfcbe083d','Origin','Sources',\n",
        "                   'How satisfied are you with the way you were treated? - 05c18285-2750-479f-8afc-d560b66f552c',\n",
        "       'Overall, how satisfied were you with your interviewing experience? - 693b0a81-d4e7-40a2-9135-7fc38fa43eaf',\n",
        "       'How satisfied were you with the interview materials you received? - 4158aafc-ce92-4d35-930f-2f5451455a4d',\n",
        "       'How satisfied were you with our communication during the recruiting process? - e8c5e9ae-38de-4acb-855c-8d18039b1f5c',\n",
        "       'How satisfied are you with your interviews with the Hiring Manager and Team? - 605b085d-5bba-4668-babc-17dc8304e06c',\n",
        "       'How satisfied were you with the interview feedback you received? - e30211c6-d32d-4f89-95fc-dfb91bb47033',\n",
        "       'Do you have any thoughts or comments that you would like to share? - a611bc41-fd5f-4f91-a277-3b0a260c7401',\n",
        "       'How satisfied were you with your Screening call? - de09e7f8-4e8c-498d-9ccb-237788b735d0']\n",
        "newJanDF = JanDF.drop(columnsToRemove,axis=1)\n",
        "janFeedback = newJanDF.where((JanDF['Team'] == 'Software Engineering') | (JanDF['Department'] == 'Sales')).dropna()\n",
        "print(janFeedback.to_string())"
      ],
      "metadata": {
        "colab": {
          "base_uri": "https://localhost:8080/"
        },
        "id": "41EYqXW0Q78I",
        "outputId": "1c200cf2-db0f-4cdf-c71e-9c6d3f7311f3"
      },
      "execution_count": null,
      "outputs": [
        {
          "output_type": "stream",
          "name": "stdout",
          "text": [
            "                    Team  Department Commitment / Work Type            Location          Current Stage                                                       Posting Title        Posting Owner Posting Hiring Manager How satisfied were you with the ease of the application process? - 513b2b55-b818-4f03-bf6f-e82b180c9e60\n",
            "0          Customer Team       Sales              Permanent   New York (Remote)              2nd Round                                              Senior Account Manager        Arlyne Audige           Tony Cerbone                                                                                           4 - Satisfied\n",
            "5          Customer Team       Sales              Permanent        USA (Remote)  Hiring Manager Screen                                  Customer Success Manager (Fintech)        Arlyne Audige           Tony Cerbone                                                                                      5 - Very satisfied\n",
            "6          Customer Team       Sales              Permanent        USA (Remote)              1st Round                                  Customer Success Manager (Fintech)        Arlyne Audige           Tony Cerbone                                                                                      5 - Very satisfied\n",
            "7    New Business - EMEA       Sales              Permanent     London (Remote)  Hiring Manager Screen                    Business Development Executive (German speaking)          Zoe Keevash          Fumbi Banjoko                                                                                             3 - Neutral\n",
            "15  Software Engineering  Technology              Permanent      United Kingdom              1st Round                                        Engineering Manager (Remote)      Jake Pedlingham         Jose Pettoruti                                                                                      5 - Very satisfied\n",
            "16  Software Engineering  Technology              Permanent      United Kingdom       Recruiter Screen                                     Java Software Engineer (Remote)      Jake Pedlingham         Jose Pettoruti                                                                                           4 - Satisfied\n",
            "19   New Business - EMEA       Sales              Permanent     London (Remote)              1st Round                    Business Development Executive (German speaking)          Zoe Keevash          Fumbi Banjoko                                                                                      5 - Very satisfied\n",
            "20   Customer Experience       Sales              Permanent        USA (Remote)  Hiring Manager Screen              Presales Implementation Solutions Consultant (Fintech)        Arlyne Audige          Shi-Huey Chen                                                                                           4 - Satisfied\n",
            "21   New Business - EMEA       Sales              Permanent     London (Remote)       Recruiter Screen  Business Development Manager – LendTech, BNPL (Buy Now, Pay Later)          Zoe Keevash         Alexander Barr                                                                                      5 - Very satisfied\n",
            "24         Customer Team       Sales              Permanent        USA (Remote)                  Offer                                                     Account Manager        Arlyne Audige           Tony Cerbone                                                                                           4 - Satisfied\n",
            "25         Customer Team       Sales              Permanent        USA (Remote)               Decision                                              Senior Account Manager        Arlyne Audige           Tony Cerbone                                                                                      5 - Very satisfied\n",
            "26   New Business - APAC       Sales              Permanent  Singapore (Remote)       Recruiter Screen                                                    Sales Consultant  Victor Leong Wei De            Anthony Man                                                                                      5 - Very satisfied\n",
            "29  Software Engineering  Technology              Permanent      United Kingdom       Recruiter Screen                                        Engineering Manager (Remote)      Jake Pedlingham         Jose Pettoruti                                                                                             3 - Neutral\n",
            "34  Software Engineering  Technology              Permanent         Netherlands  Hiring Manager Screen                                        Engineering Manager (Remote)      Jake Pedlingham         Jose Pettoruti                                                                                           4 - Satisfied\n"
          ]
        }
      ]
    },
    {
      "cell_type": "code",
      "source": [
        "import pandas as pd\n",
        "decDF = pd.read_csv('December Feeback.csv')\n",
        "columnsToRemove = ['Applied On', 'Collected On', 'Anonymized Contact ID', 'Posting ID',\n",
        "                   'Current Stage ID','Application Archive Reason', 'Application Archived On',\n",
        "       'Application Archived By', 'Survey Id', 'Survey Name',\n",
        "       'Survey Location Type','Candidate Selected Location',\n",
        "       'Stage - New lead', 'Stage - Reached out', 'Stage - Responded',\n",
        "       'Stage - New applicant', 'Stage - Under review',\n",
        "       'Stage - Recruiter Screen', 'Stage - Hiring Manager Screen',\n",
        "       'Stage - 1st Round', 'Stage - 2nd Round', 'Stage - Decision',\n",
        "       'Stage - Offer','What suggestions would you make to improve our interview process? - 21866cc4-7d8f-47da-97df-9efdfcbe083d','Origin','Sources',\n",
        "                   'How satisfied are you with the way you were treated? - 05c18285-2750-479f-8afc-d560b66f552c',\n",
        "       'Overall, how satisfied were you with your interviewing experience? - 693b0a81-d4e7-40a2-9135-7fc38fa43eaf',\n",
        "       'How satisfied were you with the ease of the application process? - 513b2b55-b818-4f03-bf6f-e82b180c9e60',\n",
        "       'How satisfied were you with the interview materials you received? - 4158aafc-ce92-4d35-930f-2f5451455a4d',\n",
        "       'How satisfied were you with our communication during the recruiting process? - e8c5e9ae-38de-4acb-855c-8d18039b1f5c',\n",
        "       'How satisfied are you with your interviews with the Hiring Manager and Team? - 605b085d-5bba-4668-babc-17dc8304e06c',\n",
        "       'How satisfied were you with the interview feedback you received? - e30211c6-d32d-4f89-95fc-dfb91bb47033',\n",
        "       'Do you have any thoughts or comments that you would like to share? - a611bc41-fd5f-4f91-a277-3b0a260c7401',\n",
        "       'How satisfied were you with your Screening call? - de09e7f8-4e8c-498d-9ccb-237788b735d0']\n",
        "decTeam = decDF.drop(columnsToRemove,axis=1)\n",
        "decSales = decTeam.where(decDF['Department'] == 'Sales').dropna()\n",
        "print(decSales.to_string())"
      ],
      "metadata": {
        "colab": {
          "base_uri": "https://localhost:8080/"
        },
        "id": "b1OnAk5eRMua",
        "outputId": "5b5fdbdc-fab1-4dce-cbd7-6a6f5bec968b"
      },
      "execution_count": null,
      "outputs": [
        {
          "output_type": "stream",
          "name": "stdout",
          "text": [
            "                            Team Department Commitment / Work Type            Location          Current Stage                                            Posting Title        Posting Owner Posting Hiring Manager\n",
            "0                 Solutions Team      Sales              Permanent  Singapore (Remote)  Hiring Manager Screen                                 Lead Solutions Architect  Victor Leong Wei De               Ian Beth\n",
            "2                 Solutions Team      Sales              Permanent      Spain (Remote)       Recruiter Screen      Presales Implementation Consultant (pre/post sales)          Zoe Keevash             Mark Lynch\n",
            "3                  Customer Team      Sales              Permanent        USA (Remote)  Hiring Manager Screen                       Customer Success Manager (Fintech)        Arlyne Audige           Tony Cerbone\n",
            "5                 Solutions Team      Sales              Permanent      Spain (Remote)              1st Round      Presales Implementation Consultant (pre/post sales)          Zoe Keevash             Mark Lynch\n",
            "6   New Business - North America      Sales              Permanent        USA (Remote)  Hiring Manager Screen                     Account Executive (Payments/Fintech)        Arlyne Audige         Dave Heitzmann\n",
            "7   New Business - North America      Sales              Permanent        USA (Remote)  Hiring Manager Screen                       Senior Account Executive (Fintech)        Arlyne Audige         Dave Heitzmann\n",
            "8   New Business - North America      Sales              Permanent        USA (Remote)  Hiring Manager Screen                       Senior Account Executive (Fintech)        Arlyne Audige         Dave Heitzmann\n",
            "10                 Customer Team      Sales              Permanent     London (Remote)  Hiring Manager Screen      Senior Enterprise Account Manager (Fintech/Banking)          Zoe Keevash          Andrew Nelson\n",
            "11                 Customer Team      Sales              Permanent  Singapore (Remote)                  Offer                                          Account Manager  Victor Leong Wei De             Ben Achirn\n",
            "15           New Business - EMEA      Sales              Permanent      Spain (Remote)       Recruiter Screen        Business Development Executive (Spanish speaking)          Zoe Keevash          Fumbi Banjoko\n",
            "16                 Customer Team      Sales              Permanent   New York (Remote)       Recruiter Screen                                   Senior Account Manager        Arlyne Audige           Tony Cerbone\n",
            "18                 Customer Team      Sales              Permanent        USA (Remote)  Hiring Manager Screen                       Customer Success Manager (Fintech)        Arlyne Audige           Tony Cerbone\n",
            "20                 Customer Team      Sales              Permanent     London (Remote)              1st Round      Senior Enterprise Account Manager (Fintech/Banking)          Zoe Keevash          Andrew Nelson\n",
            "21                 Customer Team      Sales              Permanent        USA (Remote)  Hiring Manager Screen                       Customer Success Manager (Fintech)        Arlyne Audige           Tony Cerbone\n",
            "22                 Customer Team      Sales              Permanent   New York (Remote)       Recruiter Screen                                   Senior Account Manager        Arlyne Audige           Tony Cerbone\n",
            "25                 Customer Team      Sales              Permanent        USA (Remote)  Hiring Manager Screen                       Customer Success Manager (Fintech)        Arlyne Audige           Tony Cerbone\n",
            "26           New Business - APAC      Sales              Permanent  Singapore (Remote)  Hiring Manager Screen                                         Sales Consultant  Victor Leong Wei De            Anthony Man\n",
            "27           New Business - EMEA      Sales              Permanent     London (Remote)                  Offer  Business Development Manager Payment (Italian speaking)          Zoe Keevash         Lewis Nurcombe\n",
            "33                 Customer Team      Sales              Permanent        USA (Remote)  Hiring Manager Screen                       Customer Success Manager (Fintech)        Arlyne Audige           Tony Cerbone\n",
            "34  New Business - North America      Sales              Permanent        USA (Remote)       Recruiter Screen                     Account Executive (Payments/Fintech)        Arlyne Audige         Dave Heitzmann\n",
            "35                 Customer Team      Sales              Permanent        USA (Remote)  Hiring Manager Screen                       Customer Success Manager (Fintech)        Arlyne Audige           Tony Cerbone\n"
          ]
        }
      ]
    }
  ]
}